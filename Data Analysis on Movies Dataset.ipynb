{
 "cells": [
  {
   "cell_type": "code",
   "execution_count": 3,
   "id": "2b6a8588",
   "metadata": {
    "scrolled": false
   },
   "outputs": [
    {
     "name": "stdout",
     "output_type": "stream",
     "text": [
      "Collecting requests\n",
      "  Using cached requests-2.25.1-py2.py3-none-any.whl (61 kB)\n",
      "Collecting idna<3,>=2.5\n",
      "  Using cached idna-2.10-py2.py3-none-any.whl (58 kB)\n",
      "Collecting chardet<5,>=3.0.2\n",
      "  Using cached chardet-4.0.0-py2.py3-none-any.whl (178 kB)\n",
      "Collecting urllib3<1.27,>=1.21.1\n",
      "  Downloading urllib3-1.26.5-py2.py3-none-any.whl (138 kB)\n",
      "\u001b[K     |████████████████████████████████| 138 kB 1.4 MB/s eta 0:00:01\n",
      "\u001b[?25hCollecting certifi>=2017.4.17\n",
      "  Downloading certifi-2021.5.30-py2.py3-none-any.whl (145 kB)\n",
      "\u001b[K     |████████████████████████████████| 145 kB 1.0 MB/s eta 0:00:01\n",
      "\u001b[?25hInstalling collected packages: urllib3, idna, chardet, certifi, requests\n",
      "Successfully installed certifi-2021.5.30 chardet-4.0.0 idna-2.10 requests-2.25.1 urllib3-1.26.5\n"
     ]
    }
   ],
   "source": [
    "!pip install requests"
   ]
  },
  {
   "cell_type": "code",
   "execution_count": 1,
   "id": "50077d57",
   "metadata": {},
   "outputs": [],
   "source": [
    "import requests\n",
    "import json"
   ]
  },
  {
   "cell_type": "code",
   "execution_count": 2,
   "id": "12ba82b4",
   "metadata": {},
   "outputs": [],
   "source": [
    "response = requests.get('https://imdb-api.com/en/API/Top250Movies/k_xhoo6h9c')"
   ]
  },
  {
   "cell_type": "code",
   "execution_count": 3,
   "id": "3bc2d021",
   "metadata": {},
   "outputs": [
    {
     "name": "stdout",
     "output_type": "stream",
     "text": [
      "<class 'dict'>\n"
     ]
    }
   ],
   "source": [
    "json_data = json.loads(response.text)\n",
    "print(type(json_data))"
   ]
  },
  {
   "cell_type": "code",
   "execution_count": 4,
   "id": "86782ff6",
   "metadata": {},
   "outputs": [],
   "source": [
    "title = []\n",
    "year = []\n",
    "rating = []\n",
    "for i in json_data[\"items\"]:\n",
    "    title.append(i['title'])\n",
    "    year.append(int(i['year']))\n",
    "    #year.append(i['year'])\n",
    "    rating.append(float(i['imDbRating']))"
   ]
  },
  {
   "cell_type": "markdown",
   "id": "9d16ca56",
   "metadata": {},
   "source": [
    "# Openpyxl: Excel"
   ]
  },
  {
   "cell_type": "code",
   "execution_count": 182,
   "id": "4cedd5cb",
   "metadata": {},
   "outputs": [
    {
     "name": "stdout",
     "output_type": "stream",
     "text": [
      "Requirement already satisfied: openpyxl in ./venv/lib/python3.9/site-packages (3.0.7)\r\n",
      "Requirement already satisfied: et-xmlfile in ./venv/lib/python3.9/site-packages (from openpyxl) (1.1.0)\r\n"
     ]
    }
   ],
   "source": [
    "!pip install openpyxl"
   ]
  },
  {
   "cell_type": "code",
   "execution_count": 5,
   "id": "1230d981",
   "metadata": {},
   "outputs": [],
   "source": [
    "title.insert(0,\"TITLE\")\n",
    "year.insert(0,\"YEAR\")\n",
    "rating.insert(0,\"RATING\")"
   ]
  },
  {
   "cell_type": "code",
   "execution_count": 6,
   "id": "461e1918",
   "metadata": {},
   "outputs": [],
   "source": [
    "import openpyxl\n",
    "def save_data(col_name, col_num):\n",
    "    book = openpyxl.load_workbook('top_250_movies.xlsx')\n",
    "    wb = book.active\n",
    "    for b in range(len(col_name)):\n",
    "        temp = col_name[b]\n",
    "        wb.cell(row=b+1, column=col_num).value = temp\n",
    "    book.save('top_250_movies.xlsx')\n",
    "save_data(title, 1)\n",
    "save_data(year, 2)\n",
    "save_data(rating, 3)"
   ]
  },
  {
   "cell_type": "markdown",
   "id": "6b3dca5f",
   "metadata": {},
   "source": [
    "# Number of blockbuster movies in last three decades"
   ]
  },
  {
   "cell_type": "code",
   "execution_count": 7,
   "id": "bcd1cf87",
   "metadata": {},
   "outputs": [
    {
     "data": {
      "text/plain": [
       "'TITLE'"
      ]
     },
     "execution_count": 7,
     "metadata": {},
     "output_type": "execute_result"
    }
   ],
   "source": [
    "title.pop(0)"
   ]
  }
 ],
 "metadata": {
  "kernelspec": {
   "display_name": "Python 3",
   "language": "python",
   "name": "python3"
  },
  "language_info": {
   "codemirror_mode": {
    "name": "ipython",
    "version": 3
   },
   "file_extension": ".py",
   "mimetype": "text/x-python",
   "name": "python",
   "nbconvert_exporter": "python",
   "pygments_lexer": "ipython3",
   "version": "3.9.5"
  }
 },
 "nbformat": 4,
 "nbformat_minor": 5
}
